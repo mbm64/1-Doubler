{
 "cells": [
  {
   "cell_type": "code",
   "execution_count": 8,
   "metadata": {},
   "outputs": [
    {
     "name": "stdout",
     "output_type": "stream",
     "text": [
      "1\n"
     ]
    }
   ],
   "source": [
    "#This function here defines the constant known to man as the number one\n",
    "def Define_one():\n",
    "    return 1\n",
    "Real_One=Define_one()"
   ]
  },
  {
   "cell_type": "code",
   "execution_count": 9,
   "metadata": {},
   "outputs": [
    {
     "name": "stdout",
     "output_type": "stream",
     "text": [
      "2\n"
     ]
    }
   ],
   "source": [
    "#This Function Takes the Value\n",
    "def Double_one(One):\n",
    "    if One == Define_one():\n",
    "        return One+One\n",
    "    else:\n",
    "        print(\"The Value given is not the constant one. Impossible to work with.\")\n",
    "Doubled_One=Double_one(Real_One) \n",
    "#Here we take our value one and we attempt to double it and see what we get.\n",
    "print(Doubled_One)"
   ]
  },
  {
   "cell_type": "code",
   "execution_count": null,
   "metadata": {},
   "outputs": [],
   "source": []
  }
 ],
 "metadata": {
  "kernelspec": {
   "display_name": "Python 3",
   "language": "python",
   "name": "python3"
  },
  "language_info": {
   "codemirror_mode": {
    "name": "ipython",
    "version": 3
   },
   "file_extension": ".py",
   "mimetype": "text/x-python",
   "name": "python",
   "nbconvert_exporter": "python",
   "pygments_lexer": "ipython3",
   "version": "3.7.1"
  }
 },
 "nbformat": 4,
 "nbformat_minor": 2
}
